{
  "nbformat": 4,
  "nbformat_minor": 0,
  "metadata": {
    "colab": {
      "provenance": [],
      "include_colab_link": true
    },
    "kernelspec": {
      "name": "python3",
      "display_name": "Python 3"
    },
    "language_info": {
      "name": "python"
    }
  },
  "cells": [
    {
      "cell_type": "markdown",
      "metadata": {
        "id": "view-in-github",
        "colab_type": "text"
      },
      "source": [
        "<a href=\"https://colab.research.google.com/github/csmotherman/HW4/blob/main/Copy_of_HW4_Part1.ipynb\" target=\"_parent\"><img src=\"https://colab.research.google.com/assets/colab-badge.svg\" alt=\"Open In Colab\"/></a>"
      ]
    },
    {
      "cell_type": "code",
      "source": [
        "import pandas as pd\n",
        "import matplotlib.pyplot as plt\n"
      ],
      "metadata": {
        "id": "8yTvQ3uoVIyD"
      },
      "execution_count": 2,
      "outputs": []
    },
    {
      "cell_type": "markdown",
      "source": [
        "**Q1** Please use Pandas to read olympic_medals.csv and use parallel_categories function from plotly.express to visualize proportions of medal type for each gender from since year 2000. Please see the example in the Python notebook we walked through in the class."
      ],
      "metadata": {
        "id": "Ahlyu2CmZ7qA"
      }
    },
    {
      "cell_type": "code",
      "source": [
        "from google.colab import drive\n",
        "drive.mount('/content/drive')"
      ],
      "metadata": {
        "colab": {
          "base_uri": "https://localhost:8080/"
        },
        "id": "PlK-wDTBmvlp",
        "outputId": "87b38991-e0c4-487a-a4ed-e11529e7c140"
      },
      "execution_count": 4,
      "outputs": [
        {
          "output_type": "stream",
          "name": "stdout",
          "text": [
            "Drive already mounted at /content/drive; to attempt to forcibly remount, call drive.mount(\"/content/drive\", force_remount=True).\n"
          ]
        }
      ]
    },
    {
      "cell_type": "code",
      "source": [
        "#please use this cell to read and select your data\n",
        "df = pd.read_csv('/content/drive/MyDrive/DATA/olympic_medals.csv')\n",
        "df.head()\n"
      ],
      "metadata": {
        "colab": {
          "base_uri": "https://localhost:8080/",
          "height": 206
        },
        "id": "9bQlTm4QVPdJ",
        "outputId": "7566a1f5-db3d-4505-e3e3-5a1b672a6a6a"
      },
      "execution_count": 6,
      "outputs": [
        {
          "output_type": "execute_result",
          "data": {
            "text/plain": [
              "  Gender       Event Location  Year Medal                   Name Nationality  \\\n",
              "0      M  10000M Men      Rio  2016     G          Mohamed FARAH         GBR   \n",
              "1      M  10000M Men      Rio  2016     S  Paul Kipngetich TANUI         KEN   \n",
              "2      M  10000M Men      Rio  2016     B           Tamirat TOLA         ETH   \n",
              "3      M  10000M Men  Beijing  2008     G        Kenenisa BEKELE         ETH   \n",
              "4      M  10000M Men  Beijing  2008     S         Sileshi SIHINE         ETH   \n",
              "\n",
              "     Result  \n",
              "0  25:05.17  \n",
              "1  27:05.64  \n",
              "2  27:06.26  \n",
              "3  27:01.17  \n",
              "4  27:02.77  "
            ],
            "text/html": [
              "\n",
              "  <div id=\"df-e52f0505-402a-47e9-a217-0412d51d4760\" class=\"colab-df-container\">\n",
              "    <div>\n",
              "<style scoped>\n",
              "    .dataframe tbody tr th:only-of-type {\n",
              "        vertical-align: middle;\n",
              "    }\n",
              "\n",
              "    .dataframe tbody tr th {\n",
              "        vertical-align: top;\n",
              "    }\n",
              "\n",
              "    .dataframe thead th {\n",
              "        text-align: right;\n",
              "    }\n",
              "</style>\n",
              "<table border=\"1\" class=\"dataframe\">\n",
              "  <thead>\n",
              "    <tr style=\"text-align: right;\">\n",
              "      <th></th>\n",
              "      <th>Gender</th>\n",
              "      <th>Event</th>\n",
              "      <th>Location</th>\n",
              "      <th>Year</th>\n",
              "      <th>Medal</th>\n",
              "      <th>Name</th>\n",
              "      <th>Nationality</th>\n",
              "      <th>Result</th>\n",
              "    </tr>\n",
              "  </thead>\n",
              "  <tbody>\n",
              "    <tr>\n",
              "      <th>0</th>\n",
              "      <td>M</td>\n",
              "      <td>10000M Men</td>\n",
              "      <td>Rio</td>\n",
              "      <td>2016</td>\n",
              "      <td>G</td>\n",
              "      <td>Mohamed FARAH</td>\n",
              "      <td>GBR</td>\n",
              "      <td>25:05.17</td>\n",
              "    </tr>\n",
              "    <tr>\n",
              "      <th>1</th>\n",
              "      <td>M</td>\n",
              "      <td>10000M Men</td>\n",
              "      <td>Rio</td>\n",
              "      <td>2016</td>\n",
              "      <td>S</td>\n",
              "      <td>Paul Kipngetich TANUI</td>\n",
              "      <td>KEN</td>\n",
              "      <td>27:05.64</td>\n",
              "    </tr>\n",
              "    <tr>\n",
              "      <th>2</th>\n",
              "      <td>M</td>\n",
              "      <td>10000M Men</td>\n",
              "      <td>Rio</td>\n",
              "      <td>2016</td>\n",
              "      <td>B</td>\n",
              "      <td>Tamirat TOLA</td>\n",
              "      <td>ETH</td>\n",
              "      <td>27:06.26</td>\n",
              "    </tr>\n",
              "    <tr>\n",
              "      <th>3</th>\n",
              "      <td>M</td>\n",
              "      <td>10000M Men</td>\n",
              "      <td>Beijing</td>\n",
              "      <td>2008</td>\n",
              "      <td>G</td>\n",
              "      <td>Kenenisa BEKELE</td>\n",
              "      <td>ETH</td>\n",
              "      <td>27:01.17</td>\n",
              "    </tr>\n",
              "    <tr>\n",
              "      <th>4</th>\n",
              "      <td>M</td>\n",
              "      <td>10000M Men</td>\n",
              "      <td>Beijing</td>\n",
              "      <td>2008</td>\n",
              "      <td>S</td>\n",
              "      <td>Sileshi SIHINE</td>\n",
              "      <td>ETH</td>\n",
              "      <td>27:02.77</td>\n",
              "    </tr>\n",
              "  </tbody>\n",
              "</table>\n",
              "</div>\n",
              "    <div class=\"colab-df-buttons\">\n",
              "\n",
              "  <div class=\"colab-df-container\">\n",
              "    <button class=\"colab-df-convert\" onclick=\"convertToInteractive('df-e52f0505-402a-47e9-a217-0412d51d4760')\"\n",
              "            title=\"Convert this dataframe to an interactive table.\"\n",
              "            style=\"display:none;\">\n",
              "\n",
              "  <svg xmlns=\"http://www.w3.org/2000/svg\" height=\"24px\" viewBox=\"0 -960 960 960\">\n",
              "    <path d=\"M120-120v-720h720v720H120Zm60-500h600v-160H180v160Zm220 220h160v-160H400v160Zm0 220h160v-160H400v160ZM180-400h160v-160H180v160Zm440 0h160v-160H620v160ZM180-180h160v-160H180v160Zm440 0h160v-160H620v160Z\"/>\n",
              "  </svg>\n",
              "    </button>\n",
              "\n",
              "  <style>\n",
              "    .colab-df-container {\n",
              "      display:flex;\n",
              "      gap: 12px;\n",
              "    }\n",
              "\n",
              "    .colab-df-convert {\n",
              "      background-color: #E8F0FE;\n",
              "      border: none;\n",
              "      border-radius: 50%;\n",
              "      cursor: pointer;\n",
              "      display: none;\n",
              "      fill: #1967D2;\n",
              "      height: 32px;\n",
              "      padding: 0 0 0 0;\n",
              "      width: 32px;\n",
              "    }\n",
              "\n",
              "    .colab-df-convert:hover {\n",
              "      background-color: #E2EBFA;\n",
              "      box-shadow: 0px 1px 2px rgba(60, 64, 67, 0.3), 0px 1px 3px 1px rgba(60, 64, 67, 0.15);\n",
              "      fill: #174EA6;\n",
              "    }\n",
              "\n",
              "    .colab-df-buttons div {\n",
              "      margin-bottom: 4px;\n",
              "    }\n",
              "\n",
              "    [theme=dark] .colab-df-convert {\n",
              "      background-color: #3B4455;\n",
              "      fill: #D2E3FC;\n",
              "    }\n",
              "\n",
              "    [theme=dark] .colab-df-convert:hover {\n",
              "      background-color: #434B5C;\n",
              "      box-shadow: 0px 1px 3px 1px rgba(0, 0, 0, 0.15);\n",
              "      filter: drop-shadow(0px 1px 2px rgba(0, 0, 0, 0.3));\n",
              "      fill: #FFFFFF;\n",
              "    }\n",
              "  </style>\n",
              "\n",
              "    <script>\n",
              "      const buttonEl =\n",
              "        document.querySelector('#df-e52f0505-402a-47e9-a217-0412d51d4760 button.colab-df-convert');\n",
              "      buttonEl.style.display =\n",
              "        google.colab.kernel.accessAllowed ? 'block' : 'none';\n",
              "\n",
              "      async function convertToInteractive(key) {\n",
              "        const element = document.querySelector('#df-e52f0505-402a-47e9-a217-0412d51d4760');\n",
              "        const dataTable =\n",
              "          await google.colab.kernel.invokeFunction('convertToInteractive',\n",
              "                                                    [key], {});\n",
              "        if (!dataTable) return;\n",
              "\n",
              "        const docLinkHtml = 'Like what you see? Visit the ' +\n",
              "          '<a target=\"_blank\" href=https://colab.research.google.com/notebooks/data_table.ipynb>data table notebook</a>'\n",
              "          + ' to learn more about interactive tables.';\n",
              "        element.innerHTML = '';\n",
              "        dataTable['output_type'] = 'display_data';\n",
              "        await google.colab.output.renderOutput(dataTable, element);\n",
              "        const docLink = document.createElement('div');\n",
              "        docLink.innerHTML = docLinkHtml;\n",
              "        element.appendChild(docLink);\n",
              "      }\n",
              "    </script>\n",
              "  </div>\n",
              "\n",
              "\n",
              "<div id=\"df-6cb47141-1ac2-429c-9824-ebcade4aa266\">\n",
              "  <button class=\"colab-df-quickchart\" onclick=\"quickchart('df-6cb47141-1ac2-429c-9824-ebcade4aa266')\"\n",
              "            title=\"Suggest charts\"\n",
              "            style=\"display:none;\">\n",
              "\n",
              "<svg xmlns=\"http://www.w3.org/2000/svg\" height=\"24px\"viewBox=\"0 0 24 24\"\n",
              "     width=\"24px\">\n",
              "    <g>\n",
              "        <path d=\"M19 3H5c-1.1 0-2 .9-2 2v14c0 1.1.9 2 2 2h14c1.1 0 2-.9 2-2V5c0-1.1-.9-2-2-2zM9 17H7v-7h2v7zm4 0h-2V7h2v10zm4 0h-2v-4h2v4z\"/>\n",
              "    </g>\n",
              "</svg>\n",
              "  </button>\n",
              "\n",
              "<style>\n",
              "  .colab-df-quickchart {\n",
              "      --bg-color: #E8F0FE;\n",
              "      --fill-color: #1967D2;\n",
              "      --hover-bg-color: #E2EBFA;\n",
              "      --hover-fill-color: #174EA6;\n",
              "      --disabled-fill-color: #AAA;\n",
              "      --disabled-bg-color: #DDD;\n",
              "  }\n",
              "\n",
              "  [theme=dark] .colab-df-quickchart {\n",
              "      --bg-color: #3B4455;\n",
              "      --fill-color: #D2E3FC;\n",
              "      --hover-bg-color: #434B5C;\n",
              "      --hover-fill-color: #FFFFFF;\n",
              "      --disabled-bg-color: #3B4455;\n",
              "      --disabled-fill-color: #666;\n",
              "  }\n",
              "\n",
              "  .colab-df-quickchart {\n",
              "    background-color: var(--bg-color);\n",
              "    border: none;\n",
              "    border-radius: 50%;\n",
              "    cursor: pointer;\n",
              "    display: none;\n",
              "    fill: var(--fill-color);\n",
              "    height: 32px;\n",
              "    padding: 0;\n",
              "    width: 32px;\n",
              "  }\n",
              "\n",
              "  .colab-df-quickchart:hover {\n",
              "    background-color: var(--hover-bg-color);\n",
              "    box-shadow: 0 1px 2px rgba(60, 64, 67, 0.3), 0 1px 3px 1px rgba(60, 64, 67, 0.15);\n",
              "    fill: var(--button-hover-fill-color);\n",
              "  }\n",
              "\n",
              "  .colab-df-quickchart-complete:disabled,\n",
              "  .colab-df-quickchart-complete:disabled:hover {\n",
              "    background-color: var(--disabled-bg-color);\n",
              "    fill: var(--disabled-fill-color);\n",
              "    box-shadow: none;\n",
              "  }\n",
              "\n",
              "  .colab-df-spinner {\n",
              "    border: 2px solid var(--fill-color);\n",
              "    border-color: transparent;\n",
              "    border-bottom-color: var(--fill-color);\n",
              "    animation:\n",
              "      spin 1s steps(1) infinite;\n",
              "  }\n",
              "\n",
              "  @keyframes spin {\n",
              "    0% {\n",
              "      border-color: transparent;\n",
              "      border-bottom-color: var(--fill-color);\n",
              "      border-left-color: var(--fill-color);\n",
              "    }\n",
              "    20% {\n",
              "      border-color: transparent;\n",
              "      border-left-color: var(--fill-color);\n",
              "      border-top-color: var(--fill-color);\n",
              "    }\n",
              "    30% {\n",
              "      border-color: transparent;\n",
              "      border-left-color: var(--fill-color);\n",
              "      border-top-color: var(--fill-color);\n",
              "      border-right-color: var(--fill-color);\n",
              "    }\n",
              "    40% {\n",
              "      border-color: transparent;\n",
              "      border-right-color: var(--fill-color);\n",
              "      border-top-color: var(--fill-color);\n",
              "    }\n",
              "    60% {\n",
              "      border-color: transparent;\n",
              "      border-right-color: var(--fill-color);\n",
              "    }\n",
              "    80% {\n",
              "      border-color: transparent;\n",
              "      border-right-color: var(--fill-color);\n",
              "      border-bottom-color: var(--fill-color);\n",
              "    }\n",
              "    90% {\n",
              "      border-color: transparent;\n",
              "      border-bottom-color: var(--fill-color);\n",
              "    }\n",
              "  }\n",
              "</style>\n",
              "\n",
              "  <script>\n",
              "    async function quickchart(key) {\n",
              "      const quickchartButtonEl =\n",
              "        document.querySelector('#' + key + ' button');\n",
              "      quickchartButtonEl.disabled = true;  // To prevent multiple clicks.\n",
              "      quickchartButtonEl.classList.add('colab-df-spinner');\n",
              "      try {\n",
              "        const charts = await google.colab.kernel.invokeFunction(\n",
              "            'suggestCharts', [key], {});\n",
              "      } catch (error) {\n",
              "        console.error('Error during call to suggestCharts:', error);\n",
              "      }\n",
              "      quickchartButtonEl.classList.remove('colab-df-spinner');\n",
              "      quickchartButtonEl.classList.add('colab-df-quickchart-complete');\n",
              "    }\n",
              "    (() => {\n",
              "      let quickchartButtonEl =\n",
              "        document.querySelector('#df-6cb47141-1ac2-429c-9824-ebcade4aa266 button');\n",
              "      quickchartButtonEl.style.display =\n",
              "        google.colab.kernel.accessAllowed ? 'block' : 'none';\n",
              "    })();\n",
              "  </script>\n",
              "</div>\n",
              "    </div>\n",
              "  </div>\n"
            ]
          },
          "metadata": {},
          "execution_count": 6
        }
      ]
    },
    {
      "cell_type": "code",
      "execution_count": 16,
      "metadata": {
        "colab": {
          "base_uri": "https://localhost:8080/",
          "height": 542
        },
        "id": "IUJMNrQbVBre",
        "outputId": "517a8c10-31ed-413d-eb02-6190d3d3dc5a"
      },
      "outputs": [
        {
          "output_type": "display_data",
          "data": {
            "text/html": [
              "<html>\n",
              "<head><meta charset=\"utf-8\" /></head>\n",
              "<body>\n",
              "    <div>            <script src=\"https://cdnjs.cloudflare.com/ajax/libs/mathjax/2.7.5/MathJax.js?config=TeX-AMS-MML_SVG\"></script><script type=\"text/javascript\">if (window.MathJax && window.MathJax.Hub && window.MathJax.Hub.Config) {window.MathJax.Hub.Config({SVG: {font: \"STIX-Web\"}});}</script>                <script type=\"text/javascript\">window.PlotlyConfig = {MathJaxConfig: 'local'};</script>\n",
              "        <script charset=\"utf-8\" src=\"https://cdn.plot.ly/plotly-2.24.1.min.js\"></script>                <div id=\"ad72badb-fba9-4466-afe4-a4d1be543707\" class=\"plotly-graph-div\" style=\"height:525px; width:100%;\"></div>            <script type=\"text/javascript\">                                    window.PLOTLYENV=window.PLOTLYENV || {};                                    if (document.getElementById(\"ad72badb-fba9-4466-afe4-a4d1be543707\")) {                    Plotly.newPlot(                        \"ad72badb-fba9-4466-afe4-a4d1be543707\",                        [{\"dimensions\":[{\"label\":\"Year\",\"values\":[2016,2016,2016,2008,2008,2008,2000,2000,2000,2012,2012,2012,2004,2004,2004,2016,2016,2016,2008,2008,2008,2000,2000,2000,2012,2012,2012,2004,2004,2004,2016,2016,2016,2008,2008,2008,2000,2000,2000,2012,2012,2012,2004,2004,2004,2016,2016,2016,2008,2008,2008,2000,2000,2000,2012,2012,2012,2004,2004,2004,2016,2016,2016,2008,2008,2008,2000,2000,2000,2012,2012,2012,2004,2004,2004,2016,2016,2016,2008,2008,2008,2000,2000,2000,2012,2012,2012,2004,2004,2004,2016,2016,2016,2008,2008,2008,2000,2000,2000,2012,2012,2012,2004,2004,2004,2016,2016,2016,2008,2008,2008,2000,2000,2000,2012,2012,2012,2004,2004,2004,2016,2016,2016,2008,2008,2008,2000,2000,2000,2012,2012,2012,2004,2004,2004,2016,2016,2016,2008,2008,2000,2000,2000,2012,2012,2012,2004,2004,2004,2016,2016,2016,2008,2008,2000,2000,2000,2012,2012,2012,2004,2004,2004,2016,2016,2016,2008,2008,2008,2000,2000,2000,2012,2012,2012,2004,2004,2004,2016,2016,2016,2008,2008,2008,2000,2000,2000,2012,2012,2012,2004,2004,2004,2016,2016,2016,2008,2008,2008,2000,2000,2000,2012,2012,2012,2004,2004,2004,2016,2016,2016,2008,2008,2008,2000,2000,2000,2012,2012,2012,2004,2004,2004,2016,2016,2016,2008,2008,2008,2000,2000,2000,2012,2012,2012,2004,2004,2004,2016,2016,2016,2008,2008,2008,2000,2000,2000,2012,2012,2012,2004,2004,2016,2016,2016,2008,2008,2008,2000,2000,2000,2012,2012,2012,2012,2012,2004,2004,2004,2016,2016,2016,2008,2008,2008,2000,2000,2000,2012,2012,2004,2004,2004,2016,2016,2016,2008,2008,2008,2000,2000,2000,2012,2012,2012,2004,2004,2004,2016,2016,2016,2008,2008,2008,2000,2000,2000,2012,2012,2012,2004,2004,2004,2016,2016,2016,2008,2008,2000,2000,2000,2012,2012,2012,2004,2004,2004,2016,2016,2016,2008,2008,2008,2000,2000,2000,2012,2012,2012,2004,2004,2004,2016,2016,2016,2008,2008,2008,2000,2000,2000,2012,2012,2012,2004,2004,2004,2016,2016,2016,2008,2008,2008,2000,2000,2000,2012,2012,2012,2004,2004,2004,2016,2016,2016,2008,2008,2008,2000,2000,2000,2012,2012,2012,2004,2004,2004,2016,2016,2016,2008,2008,2008,2000,2000,2000,2012,2012,2012,2004,2004,2004,2016,2016,2016,2008,2008,2008,2000,2000,2000,2012,2012,2004,2004,2004,2016,2016,2016,2008,2008,2008,2000,2000,2000,2012,2012,2012,2004,2004,2004,2016,2016,2016,2008,2008,2008,2000,2000,2000,2000,2012,2012,2004,2004,2004,2016,2016,2016,2008,2008,2012,2012,2012,2016,2016,2016,2008,2008,2008,2000,2000,2000,2012,2012,2012,2004,2004,2004,2016,2016,2016,2008,2008,2008,2000,2000,2000,2012,2012,2012,2004,2004,2004,2016,2016,2016,2008,2008,2008,2000,2000,2000,2012,2012,2012,2004,2004,2004,2016,2016,2016,2008,2008,2000,2000,2000,2012,2012,2012,2004,2004,2004,2016,2016,2016,2008,2008,2008,2000,2000,2000,2012,2012,2012,2004,2004,2004,2016,2016,2016,2008,2008,2008,2000,2000,2000,2012,2012,2012,2004,2004,2004,2016,2016,2016,2008,2008,2000,2000,2000,2012,2012,2012,2004,2004,2004,2016,2016,2016,2008,2008,2008,2000,2000,2000,2012,2012,2004,2004,2004,2016,2016,2016,2008,2008,2008,2000,2000,2000,2012,2012,2012,2004,2004,2004,2016,2016,2016,2008,2008,2000,2000,2000,2000,2012,2012,2012,2004,2004,2004,2016,2016,2016,2008,2008,2000,2000,2000,2012,2012,2012,2004,2004,2004,2016,2016,2016,2008,2008,2000,2000,2000,2012,2012,2012,2004,2004,2004,2016,2016,2016,2008,2008,2008,2000,2000,2000,2012,2012,2012,2004,2004,2004,2016,2016,2016,2008,2008,2008,2000,2000,2000,2012,2012,2012,2004,2004,2004,2016,2016,2016,2008,2000,2000,2000,2012,2012,2004,2004,2016,2016,2016,2008,2000,2000,2000,2012,2012,2012,2004,2004,2004]},{\"label\":\"Medal\",\"values\":[\"G\",\"S\",\"B\",\"G\",\"S\",\"B\",\"G\",\"S\",\"B\",\"G\",\"S\",\"B\",\"G\",\"S\",\"B\",\"G\",\"S\",\"B\",\"G\",\"S\",\"B\",\"G\",\"S\",\"B\",\"G\",\"S\",\"B\",\"G\",\"S\",\"B\",\"G\",\"S\",\"B\",\"G\",\"S\",\"B\",\"G\",\"S\",\"B\",\"G\",\"S\",\"B\",\"G\",\"S\",\"B\",\"G\",\"S\",\"B\",\"G\",\"S\",\"B\",\"G\",\"S\",\"B\",\"G\",\"S\",\"B\",\"G\",\"S\",\"B\",\"G\",\"S\",\"B\",\"G\",\"S\",\"B\",\"G\",\"S\",\"B\",\"G\",\"S\",\"B\",\"G\",\"S\",\"B\",\"G\",\"S\",\"B\",\"G\",\"S\",\"B\",\"G\",\"S\",\"B\",\"G\",\"S\",\"B\",\"G\",\"S\",\"B\",\"G\",\"S\",\"B\",\"G\",\"S\",\"B\",\"G\",\"S\",\"B\",\"G\",\"S\",\"B\",\"G\",\"S\",\"B\",\"G\",\"S\",\"B\",\"G\",\"S\",\"B\",\"G\",\"S\",\"B\",\"G\",\"S\",\"B\",\"G\",\"S\",\"B\",\"G\",\"S\",\"B\",\"G\",\"S\",\"B\",\"G\",\"S\",\"B\",\"G\",\"S\",\"B\",\"G\",\"S\",\"B\",\"G\",\"S\",\"B\",\"S\",\"B\",\"G\",\"S\",\"B\",\"G\",\"S\",\"B\",\"G\",\"S\",\"B\",\"G\",\"S\",\"B\",\"G\",\"S\",\"G\",\"S\",\"B\",\"G\",\"S\",\"B\",\"G\",\"S\",\"B\",\"G\",\"S\",\"B\",\"G\",\"S\",\"B\",\"G\",\"S\",\"B\",\"G\",\"S\",\"B\",\"G\",\"S\",\"B\",\"G\",\"S\",\"B\",\"G\",\"S\",\"B\",\"G\",\"S\",\"B\",\"G\",\"S\",\"B\",\"G\",\"S\",\"B\",\"G\",\"S\",\"B\",\"G\",\"S\",\"B\",\"G\",\"S\",\"B\",\"G\",\"S\",\"B\",\"G\",\"S\",\"B\",\"G\",\"S\",\"B\",\"G\",\"S\",\"B\",\"G\",\"S\",\"B\",\"G\",\"S\",\"B\",\"G\",\"S\",\"B\",\"G\",\"S\",\"B\",\"G\",\"S\",\"B\",\"G\",\"S\",\"B\",\"G\",\"S\",\"B\",\"G\",\"S\",\"B\",\"G\",\"S\",\"B\",\"G\",\"S\",\"B\",\"G\",\"S\",\"B\",\"G\",\"S\",\"B\",\"G\",\"B\",\"G\",\"S\",\"B\",\"G\",\"S\",\"B\",\"G\",\"S\",\"B\",\"G\",\"S\",\"B\",\"B\",\"B\",\"G\",\"S\",\"B\",\"G\",\"S\",\"B\",\"G\",\"S\",\"B\",\"G\",\"S\",\"B\",\"G\",\"B\",\"G\",\"S\",\"B\",\"G\",\"S\",\"B\",\"G\",\"S\",\"B\",\"G\",\"S\",\"B\",\"G\",\"S\",\"B\",\"G\",\"S\",\"B\",\"G\",\"S\",\"B\",\"G\",\"S\",\"B\",\"G\",\"S\",\"B\",\"G\",\"S\",\"B\",\"G\",\"S\",\"B\",\"G\",\"S\",\"B\",\"G\",\"S\",\"G\",\"S\",\"B\",\"G\",\"S\",\"B\",\"G\",\"S\",\"B\",\"G\",\"S\",\"B\",\"G\",\"S\",\"B\",\"G\",\"S\",\"B\",\"G\",\"S\",\"B\",\"G\",\"S\",\"B\",\"G\",\"S\",\"B\",\"G\",\"S\",\"B\",\"G\",\"S\",\"B\",\"G\",\"S\",\"B\",\"G\",\"S\",\"B\",\"G\",\"S\",\"B\",\"G\",\"S\",\"B\",\"G\",\"S\",\"B\",\"G\",\"S\",\"B\",\"G\",\"S\",\"B\",\"G\",\"S\",\"B\",\"G\",\"S\",\"B\",\"G\",\"S\",\"B\",\"G\",\"S\",\"B\",\"G\",\"S\",\"B\",\"G\",\"S\",\"B\",\"G\",\"S\",\"S\",\"S\",\"S\",\"B\",\"G\",\"S\",\"B\",\"G\",\"S\",\"B\",\"G\",\"S\",\"B\",\"G\",\"S\",\"B\",\"G\",\"S\",\"B\",\"S\",\"B\",\"G\",\"S\",\"B\",\"G\",\"S\",\"B\",\"G\",\"S\",\"B\",\"G\",\"S\",\"B\",\"G\",\"S\",\"B\",\"G\",\"S\",\"B\",\"G\",\"S\",\"B\",\"G\",\"S\",\"B\",\"G\",\"G\",\"S\",\"B\",\"G\",\"B\",\"G\",\"S\",\"B\",\"G\",\"S\",\"B\",\"G\",\"S\",\"G\",\"S\",\"B\",\"G\",\"S\",\"B\",\"G\",\"S\",\"B\",\"G\",\"S\",\"B\",\"G\",\"S\",\"B\",\"G\",\"S\",\"B\",\"G\",\"S\",\"B\",\"G\",\"S\",\"B\",\"G\",\"S\",\"B\",\"G\",\"S\",\"B\",\"G\",\"S\",\"B\",\"G\",\"S\",\"B\",\"G\",\"S\",\"B\",\"G\",\"S\",\"B\",\"G\",\"S\",\"B\",\"G\",\"S\",\"B\",\"G\",\"S\",\"B\",\"G\",\"B\",\"G\",\"S\",\"B\",\"G\",\"S\",\"B\",\"G\",\"S\",\"B\",\"G\",\"S\",\"B\",\"G\",\"S\",\"B\",\"G\",\"S\",\"B\",\"G\",\"S\",\"B\",\"G\",\"S\",\"B\",\"G\",\"S\",\"B\",\"G\",\"S\",\"B\",\"G\",\"S\",\"B\",\"G\",\"S\",\"B\",\"G\",\"S\",\"B\",\"G\",\"S\",\"B\",\"G\",\"B\",\"G\",\"S\",\"B\",\"G\",\"S\",\"B\",\"G\",\"S\",\"B\",\"G\",\"S\",\"B\",\"G\",\"S\",\"B\",\"G\",\"S\",\"B\",\"S\",\"B\",\"G\",\"S\",\"B\",\"G\",\"S\",\"B\",\"G\",\"S\",\"B\",\"G\",\"S\",\"B\",\"G\",\"S\",\"B\",\"G\",\"S\",\"B\",\"G\",\"S\",\"B\",\"G\",\"S\",\"G\",\"S\",\"B\",\"B\",\"G\",\"S\",\"B\",\"G\",\"S\",\"B\",\"G\",\"S\",\"B\",\"G\",\"B\",\"G\",\"S\",\"B\",\"G\",\"S\",\"B\",\"G\",\"S\",\"B\",\"G\",\"S\",\"B\",\"G\",\"B\",\"G\",\"S\",\"B\",\"G\",\"S\",\"B\",\"G\",\"S\",\"B\",\"G\",\"S\",\"B\",\"G\",\"S\",\"B\",\"G\",\"S\",\"B\",\"G\",\"S\",\"B\",\"G\",\"S\",\"B\",\"G\",\"S\",\"B\",\"G\",\"S\",\"B\",\"G\",\"S\",\"B\",\"G\",\"S\",\"B\",\"G\",\"S\",\"B\",\"G\",\"S\",\"B\",\"G\",\"G\",\"S\",\"B\",\"G\",\"B\",\"G\",\"S\",\"G\",\"S\",\"B\",\"G\",\"G\",\"S\",\"B\",\"G\",\"S\",\"B\",\"G\",\"S\",\"B\"]},{\"label\":\"Gender\",\"values\":[\"M\",\"M\",\"M\",\"M\",\"M\",\"M\",\"M\",\"M\",\"M\",\"M\",\"M\",\"M\",\"M\",\"M\",\"M\",\"M\",\"M\",\"M\",\"M\",\"M\",\"M\",\"M\",\"M\",\"M\",\"M\",\"M\",\"M\",\"M\",\"M\",\"M\",\"M\",\"M\",\"M\",\"M\",\"M\",\"M\",\"M\",\"M\",\"M\",\"M\",\"M\",\"M\",\"M\",\"M\",\"M\",\"M\",\"M\",\"M\",\"M\",\"M\",\"M\",\"M\",\"M\",\"M\",\"M\",\"M\",\"M\",\"M\",\"M\",\"M\",\"M\",\"M\",\"M\",\"M\",\"M\",\"M\",\"M\",\"M\",\"M\",\"M\",\"M\",\"M\",\"M\",\"M\",\"M\",\"M\",\"M\",\"M\",\"M\",\"M\",\"M\",\"M\",\"M\",\"M\",\"M\",\"M\",\"M\",\"M\",\"M\",\"M\",\"M\",\"M\",\"M\",\"M\",\"M\",\"M\",\"M\",\"M\",\"M\",\"M\",\"M\",\"M\",\"M\",\"M\",\"M\",\"M\",\"M\",\"M\",\"M\",\"M\",\"M\",\"M\",\"M\",\"M\",\"M\",\"M\",\"M\",\"M\",\"M\",\"M\",\"M\",\"M\",\"M\",\"M\",\"M\",\"M\",\"M\",\"M\",\"M\",\"M\",\"M\",\"M\",\"M\",\"M\",\"M\",\"M\",\"M\",\"M\",\"M\",\"M\",\"M\",\"M\",\"M\",\"M\",\"M\",\"M\",\"M\",\"M\",\"M\",\"M\",\"M\",\"M\",\"M\",\"M\",\"M\",\"M\",\"M\",\"M\",\"M\",\"M\",\"M\",\"M\",\"M\",\"M\",\"M\",\"M\",\"M\",\"M\",\"M\",\"M\",\"M\",\"M\",\"M\",\"M\",\"M\",\"M\",\"M\",\"M\",\"M\",\"M\",\"M\",\"M\",\"M\",\"M\",\"M\",\"M\",\"M\",\"M\",\"M\",\"M\",\"M\",\"M\",\"M\",\"M\",\"M\",\"M\",\"M\",\"M\",\"M\",\"M\",\"M\",\"M\",\"M\",\"M\",\"M\",\"M\",\"M\",\"M\",\"M\",\"M\",\"M\",\"M\",\"M\",\"M\",\"M\",\"M\",\"M\",\"M\",\"M\",\"M\",\"M\",\"M\",\"M\",\"M\",\"M\",\"M\",\"M\",\"M\",\"M\",\"M\",\"M\",\"M\",\"M\",\"M\",\"M\",\"M\",\"M\",\"M\",\"M\",\"M\",\"M\",\"M\",\"M\",\"M\",\"M\",\"M\",\"M\",\"M\",\"M\",\"M\",\"M\",\"M\",\"M\",\"M\",\"M\",\"M\",\"M\",\"M\",\"M\",\"M\",\"M\",\"M\",\"M\",\"M\",\"M\",\"M\",\"M\",\"M\",\"M\",\"M\",\"M\",\"M\",\"M\",\"M\",\"M\",\"M\",\"M\",\"M\",\"M\",\"M\",\"M\",\"M\",\"M\",\"M\",\"M\",\"M\",\"M\",\"M\",\"M\",\"M\",\"M\",\"M\",\"M\",\"M\",\"M\",\"M\",\"M\",\"M\",\"M\",\"M\",\"M\",\"M\",\"M\",\"M\",\"M\",\"M\",\"M\",\"M\",\"M\",\"M\",\"M\",\"M\",\"M\",\"M\",\"M\",\"M\",\"M\",\"M\",\"M\",\"M\",\"M\",\"M\",\"M\",\"M\",\"M\",\"M\",\"M\",\"M\",\"M\",\"M\",\"M\",\"M\",\"M\",\"M\",\"M\",\"M\",\"M\",\"M\",\"M\",\"M\",\"M\",\"M\",\"M\",\"M\",\"M\",\"M\",\"M\",\"M\",\"M\",\"M\",\"M\",\"M\",\"M\",\"M\",\"M\",\"M\",\"M\",\"W\",\"W\",\"W\",\"W\",\"W\",\"W\",\"W\",\"W\",\"W\",\"W\",\"W\",\"W\",\"W\",\"W\",\"W\",\"W\",\"W\",\"W\",\"W\",\"W\",\"W\",\"W\",\"W\",\"W\",\"W\",\"W\",\"W\",\"W\",\"W\",\"W\",\"W\",\"W\",\"W\",\"W\",\"W\",\"W\",\"W\",\"W\",\"W\",\"W\",\"W\",\"W\",\"W\",\"W\",\"W\",\"W\",\"W\",\"W\",\"W\",\"W\",\"W\",\"W\",\"W\",\"W\",\"W\",\"W\",\"W\",\"W\",\"W\",\"W\",\"W\",\"W\",\"W\",\"W\",\"W\",\"W\",\"W\",\"W\",\"W\",\"W\",\"W\",\"W\",\"W\",\"W\",\"W\",\"W\",\"W\",\"W\",\"W\",\"W\",\"W\",\"W\",\"W\",\"W\",\"W\",\"W\",\"W\",\"W\",\"W\",\"W\",\"W\",\"W\",\"W\",\"W\",\"W\",\"W\",\"W\",\"W\",\"W\",\"W\",\"W\",\"W\",\"W\",\"W\",\"W\",\"W\",\"W\",\"W\",\"W\",\"W\",\"W\",\"W\",\"W\",\"W\",\"W\",\"W\",\"W\",\"W\",\"W\",\"W\",\"W\",\"W\",\"W\",\"W\",\"W\",\"W\",\"W\",\"W\",\"W\",\"W\",\"W\",\"W\",\"W\",\"W\",\"W\",\"W\",\"W\",\"W\",\"W\",\"W\",\"W\",\"W\",\"W\",\"W\",\"W\",\"W\",\"W\",\"W\",\"W\",\"W\",\"W\",\"W\",\"W\",\"W\",\"W\",\"W\",\"W\",\"W\",\"W\",\"W\",\"W\",\"W\",\"W\",\"W\",\"W\",\"W\",\"W\",\"W\",\"W\",\"W\",\"W\",\"W\",\"W\",\"W\",\"W\",\"W\",\"W\",\"W\",\"W\",\"W\",\"W\",\"W\",\"W\",\"W\",\"W\",\"W\",\"W\",\"W\",\"W\",\"W\",\"W\",\"W\",\"W\",\"W\",\"W\",\"W\",\"W\",\"W\",\"W\",\"W\",\"W\",\"W\",\"W\",\"W\",\"W\",\"W\",\"W\",\"W\",\"W\",\"W\",\"W\",\"W\",\"W\",\"W\",\"W\",\"W\",\"W\",\"W\",\"W\",\"W\",\"W\",\"W\",\"W\",\"W\",\"W\",\"W\",\"W\",\"W\",\"W\",\"W\",\"W\",\"W\",\"W\",\"W\",\"W\",\"W\",\"W\",\"W\",\"W\",\"W\",\"W\",\"W\",\"W\",\"W\",\"W\",\"W\",\"W\",\"W\",\"W\",\"W\",\"W\",\"W\",\"W\",\"W\",\"W\",\"W\",\"W\",\"W\",\"W\",\"W\",\"W\",\"W\",\"W\",\"W\",\"W\",\"W\",\"W\",\"W\",\"W\",\"W\",\"W\",\"W\",\"W\",\"W\",\"W\",\"W\",\"W\",\"W\",\"W\",\"W\",\"W\",\"W\",\"W\",\"W\",\"W\",\"W\",\"W\",\"W\",\"W\",\"W\",\"W\",\"W\",\"W\",\"W\",\"W\",\"W\",\"W\",\"W\",\"W\",\"W\",\"W\",\"W\",\"W\",\"W\",\"W\",\"W\",\"W\",\"W\",\"W\",\"W\",\"W\",\"W\",\"W\",\"W\",\"W\",\"W\",\"W\",\"W\",\"W\",\"W\",\"W\",\"W\",\"W\",\"W\",\"W\",\"W\"]}],\"domain\":{\"x\":[0.0,1.0],\"y\":[0.0,1.0]},\"line\":{\"color\":[2016,2016,2016,2008,2008,2008,2000,2000,2000,2012,2012,2012,2004,2004,2004,2016,2016,2016,2008,2008,2008,2000,2000,2000,2012,2012,2012,2004,2004,2004,2016,2016,2016,2008,2008,2008,2000,2000,2000,2012,2012,2012,2004,2004,2004,2016,2016,2016,2008,2008,2008,2000,2000,2000,2012,2012,2012,2004,2004,2004,2016,2016,2016,2008,2008,2008,2000,2000,2000,2012,2012,2012,2004,2004,2004,2016,2016,2016,2008,2008,2008,2000,2000,2000,2012,2012,2012,2004,2004,2004,2016,2016,2016,2008,2008,2008,2000,2000,2000,2012,2012,2012,2004,2004,2004,2016,2016,2016,2008,2008,2008,2000,2000,2000,2012,2012,2012,2004,2004,2004,2016,2016,2016,2008,2008,2008,2000,2000,2000,2012,2012,2012,2004,2004,2004,2016,2016,2016,2008,2008,2000,2000,2000,2012,2012,2012,2004,2004,2004,2016,2016,2016,2008,2008,2000,2000,2000,2012,2012,2012,2004,2004,2004,2016,2016,2016,2008,2008,2008,2000,2000,2000,2012,2012,2012,2004,2004,2004,2016,2016,2016,2008,2008,2008,2000,2000,2000,2012,2012,2012,2004,2004,2004,2016,2016,2016,2008,2008,2008,2000,2000,2000,2012,2012,2012,2004,2004,2004,2016,2016,2016,2008,2008,2008,2000,2000,2000,2012,2012,2012,2004,2004,2004,2016,2016,2016,2008,2008,2008,2000,2000,2000,2012,2012,2012,2004,2004,2004,2016,2016,2016,2008,2008,2008,2000,2000,2000,2012,2012,2012,2004,2004,2016,2016,2016,2008,2008,2008,2000,2000,2000,2012,2012,2012,2012,2012,2004,2004,2004,2016,2016,2016,2008,2008,2008,2000,2000,2000,2012,2012,2004,2004,2004,2016,2016,2016,2008,2008,2008,2000,2000,2000,2012,2012,2012,2004,2004,2004,2016,2016,2016,2008,2008,2008,2000,2000,2000,2012,2012,2012,2004,2004,2004,2016,2016,2016,2008,2008,2000,2000,2000,2012,2012,2012,2004,2004,2004,2016,2016,2016,2008,2008,2008,2000,2000,2000,2012,2012,2012,2004,2004,2004,2016,2016,2016,2008,2008,2008,2000,2000,2000,2012,2012,2012,2004,2004,2004,2016,2016,2016,2008,2008,2008,2000,2000,2000,2012,2012,2012,2004,2004,2004,2016,2016,2016,2008,2008,2008,2000,2000,2000,2012,2012,2012,2004,2004,2004,2016,2016,2016,2008,2008,2008,2000,2000,2000,2012,2012,2012,2004,2004,2004,2016,2016,2016,2008,2008,2008,2000,2000,2000,2012,2012,2004,2004,2004,2016,2016,2016,2008,2008,2008,2000,2000,2000,2012,2012,2012,2004,2004,2004,2016,2016,2016,2008,2008,2008,2000,2000,2000,2000,2012,2012,2004,2004,2004,2016,2016,2016,2008,2008,2012,2012,2012,2016,2016,2016,2008,2008,2008,2000,2000,2000,2012,2012,2012,2004,2004,2004,2016,2016,2016,2008,2008,2008,2000,2000,2000,2012,2012,2012,2004,2004,2004,2016,2016,2016,2008,2008,2008,2000,2000,2000,2012,2012,2012,2004,2004,2004,2016,2016,2016,2008,2008,2000,2000,2000,2012,2012,2012,2004,2004,2004,2016,2016,2016,2008,2008,2008,2000,2000,2000,2012,2012,2012,2004,2004,2004,2016,2016,2016,2008,2008,2008,2000,2000,2000,2012,2012,2012,2004,2004,2004,2016,2016,2016,2008,2008,2000,2000,2000,2012,2012,2012,2004,2004,2004,2016,2016,2016,2008,2008,2008,2000,2000,2000,2012,2012,2004,2004,2004,2016,2016,2016,2008,2008,2008,2000,2000,2000,2012,2012,2012,2004,2004,2004,2016,2016,2016,2008,2008,2000,2000,2000,2000,2012,2012,2012,2004,2004,2004,2016,2016,2016,2008,2008,2000,2000,2000,2012,2012,2012,2004,2004,2004,2016,2016,2016,2008,2008,2000,2000,2000,2012,2012,2012,2004,2004,2004,2016,2016,2016,2008,2008,2008,2000,2000,2000,2012,2012,2012,2004,2004,2004,2016,2016,2016,2008,2008,2008,2000,2000,2000,2012,2012,2012,2004,2004,2004,2016,2016,2016,2008,2000,2000,2000,2012,2012,2004,2004,2016,2016,2016,2008,2000,2000,2000,2012,2012,2012,2004,2004,2004],\"coloraxis\":\"coloraxis\"},\"name\":\"\",\"type\":\"parcats\"}],                        {\"template\":{\"data\":{\"histogram2dcontour\":[{\"type\":\"histogram2dcontour\",\"colorbar\":{\"outlinewidth\":0,\"ticks\":\"\"},\"colorscale\":[[0.0,\"#0d0887\"],[0.1111111111111111,\"#46039f\"],[0.2222222222222222,\"#7201a8\"],[0.3333333333333333,\"#9c179e\"],[0.4444444444444444,\"#bd3786\"],[0.5555555555555556,\"#d8576b\"],[0.6666666666666666,\"#ed7953\"],[0.7777777777777778,\"#fb9f3a\"],[0.8888888888888888,\"#fdca26\"],[1.0,\"#f0f921\"]]}],\"choropleth\":[{\"type\":\"choropleth\",\"colorbar\":{\"outlinewidth\":0,\"ticks\":\"\"}}],\"histogram2d\":[{\"type\":\"histogram2d\",\"colorbar\":{\"outlinewidth\":0,\"ticks\":\"\"},\"colorscale\":[[0.0,\"#0d0887\"],[0.1111111111111111,\"#46039f\"],[0.2222222222222222,\"#7201a8\"],[0.3333333333333333,\"#9c179e\"],[0.4444444444444444,\"#bd3786\"],[0.5555555555555556,\"#d8576b\"],[0.6666666666666666,\"#ed7953\"],[0.7777777777777778,\"#fb9f3a\"],[0.8888888888888888,\"#fdca26\"],[1.0,\"#f0f921\"]]}],\"heatmap\":[{\"type\":\"heatmap\",\"colorbar\":{\"outlinewidth\":0,\"ticks\":\"\"},\"colorscale\":[[0.0,\"#0d0887\"],[0.1111111111111111,\"#46039f\"],[0.2222222222222222,\"#7201a8\"],[0.3333333333333333,\"#9c179e\"],[0.4444444444444444,\"#bd3786\"],[0.5555555555555556,\"#d8576b\"],[0.6666666666666666,\"#ed7953\"],[0.7777777777777778,\"#fb9f3a\"],[0.8888888888888888,\"#fdca26\"],[1.0,\"#f0f921\"]]}],\"heatmapgl\":[{\"type\":\"heatmapgl\",\"colorbar\":{\"outlinewidth\":0,\"ticks\":\"\"},\"colorscale\":[[0.0,\"#0d0887\"],[0.1111111111111111,\"#46039f\"],[0.2222222222222222,\"#7201a8\"],[0.3333333333333333,\"#9c179e\"],[0.4444444444444444,\"#bd3786\"],[0.5555555555555556,\"#d8576b\"],[0.6666666666666666,\"#ed7953\"],[0.7777777777777778,\"#fb9f3a\"],[0.8888888888888888,\"#fdca26\"],[1.0,\"#f0f921\"]]}],\"contourcarpet\":[{\"type\":\"contourcarpet\",\"colorbar\":{\"outlinewidth\":0,\"ticks\":\"\"}}],\"contour\":[{\"type\":\"contour\",\"colorbar\":{\"outlinewidth\":0,\"ticks\":\"\"},\"colorscale\":[[0.0,\"#0d0887\"],[0.1111111111111111,\"#46039f\"],[0.2222222222222222,\"#7201a8\"],[0.3333333333333333,\"#9c179e\"],[0.4444444444444444,\"#bd3786\"],[0.5555555555555556,\"#d8576b\"],[0.6666666666666666,\"#ed7953\"],[0.7777777777777778,\"#fb9f3a\"],[0.8888888888888888,\"#fdca26\"],[1.0,\"#f0f921\"]]}],\"surface\":[{\"type\":\"surface\",\"colorbar\":{\"outlinewidth\":0,\"ticks\":\"\"},\"colorscale\":[[0.0,\"#0d0887\"],[0.1111111111111111,\"#46039f\"],[0.2222222222222222,\"#7201a8\"],[0.3333333333333333,\"#9c179e\"],[0.4444444444444444,\"#bd3786\"],[0.5555555555555556,\"#d8576b\"],[0.6666666666666666,\"#ed7953\"],[0.7777777777777778,\"#fb9f3a\"],[0.8888888888888888,\"#fdca26\"],[1.0,\"#f0f921\"]]}],\"mesh3d\":[{\"type\":\"mesh3d\",\"colorbar\":{\"outlinewidth\":0,\"ticks\":\"\"}}],\"scatter\":[{\"fillpattern\":{\"fillmode\":\"overlay\",\"size\":10,\"solidity\":0.2},\"type\":\"scatter\"}],\"parcoords\":[{\"type\":\"parcoords\",\"line\":{\"colorbar\":{\"outlinewidth\":0,\"ticks\":\"\"}}}],\"scatterpolargl\":[{\"type\":\"scatterpolargl\",\"marker\":{\"colorbar\":{\"outlinewidth\":0,\"ticks\":\"\"}}}],\"bar\":[{\"error_x\":{\"color\":\"#2a3f5f\"},\"error_y\":{\"color\":\"#2a3f5f\"},\"marker\":{\"line\":{\"color\":\"#E5ECF6\",\"width\":0.5},\"pattern\":{\"fillmode\":\"overlay\",\"size\":10,\"solidity\":0.2}},\"type\":\"bar\"}],\"scattergeo\":[{\"type\":\"scattergeo\",\"marker\":{\"colorbar\":{\"outlinewidth\":0,\"ticks\":\"\"}}}],\"scatterpolar\":[{\"type\":\"scatterpolar\",\"marker\":{\"colorbar\":{\"outlinewidth\":0,\"ticks\":\"\"}}}],\"histogram\":[{\"marker\":{\"pattern\":{\"fillmode\":\"overlay\",\"size\":10,\"solidity\":0.2}},\"type\":\"histogram\"}],\"scattergl\":[{\"type\":\"scattergl\",\"marker\":{\"colorbar\":{\"outlinewidth\":0,\"ticks\":\"\"}}}],\"scatter3d\":[{\"type\":\"scatter3d\",\"line\":{\"colorbar\":{\"outlinewidth\":0,\"ticks\":\"\"}},\"marker\":{\"colorbar\":{\"outlinewidth\":0,\"ticks\":\"\"}}}],\"scattermapbox\":[{\"type\":\"scattermapbox\",\"marker\":{\"colorbar\":{\"outlinewidth\":0,\"ticks\":\"\"}}}],\"scatterternary\":[{\"type\":\"scatterternary\",\"marker\":{\"colorbar\":{\"outlinewidth\":0,\"ticks\":\"\"}}}],\"scattercarpet\":[{\"type\":\"scattercarpet\",\"marker\":{\"colorbar\":{\"outlinewidth\":0,\"ticks\":\"\"}}}],\"carpet\":[{\"aaxis\":{\"endlinecolor\":\"#2a3f5f\",\"gridcolor\":\"white\",\"linecolor\":\"white\",\"minorgridcolor\":\"white\",\"startlinecolor\":\"#2a3f5f\"},\"baxis\":{\"endlinecolor\":\"#2a3f5f\",\"gridcolor\":\"white\",\"linecolor\":\"white\",\"minorgridcolor\":\"white\",\"startlinecolor\":\"#2a3f5f\"},\"type\":\"carpet\"}],\"table\":[{\"cells\":{\"fill\":{\"color\":\"#EBF0F8\"},\"line\":{\"color\":\"white\"}},\"header\":{\"fill\":{\"color\":\"#C8D4E3\"},\"line\":{\"color\":\"white\"}},\"type\":\"table\"}],\"barpolar\":[{\"marker\":{\"line\":{\"color\":\"#E5ECF6\",\"width\":0.5},\"pattern\":{\"fillmode\":\"overlay\",\"size\":10,\"solidity\":0.2}},\"type\":\"barpolar\"}],\"pie\":[{\"automargin\":true,\"type\":\"pie\"}]},\"layout\":{\"autotypenumbers\":\"strict\",\"colorway\":[\"#636efa\",\"#EF553B\",\"#00cc96\",\"#ab63fa\",\"#FFA15A\",\"#19d3f3\",\"#FF6692\",\"#B6E880\",\"#FF97FF\",\"#FECB52\"],\"font\":{\"color\":\"#2a3f5f\"},\"hovermode\":\"closest\",\"hoverlabel\":{\"align\":\"left\"},\"paper_bgcolor\":\"white\",\"plot_bgcolor\":\"#E5ECF6\",\"polar\":{\"bgcolor\":\"#E5ECF6\",\"angularaxis\":{\"gridcolor\":\"white\",\"linecolor\":\"white\",\"ticks\":\"\"},\"radialaxis\":{\"gridcolor\":\"white\",\"linecolor\":\"white\",\"ticks\":\"\"}},\"ternary\":{\"bgcolor\":\"#E5ECF6\",\"aaxis\":{\"gridcolor\":\"white\",\"linecolor\":\"white\",\"ticks\":\"\"},\"baxis\":{\"gridcolor\":\"white\",\"linecolor\":\"white\",\"ticks\":\"\"},\"caxis\":{\"gridcolor\":\"white\",\"linecolor\":\"white\",\"ticks\":\"\"}},\"coloraxis\":{\"colorbar\":{\"outlinewidth\":0,\"ticks\":\"\"}},\"colorscale\":{\"sequential\":[[0.0,\"#0d0887\"],[0.1111111111111111,\"#46039f\"],[0.2222222222222222,\"#7201a8\"],[0.3333333333333333,\"#9c179e\"],[0.4444444444444444,\"#bd3786\"],[0.5555555555555556,\"#d8576b\"],[0.6666666666666666,\"#ed7953\"],[0.7777777777777778,\"#fb9f3a\"],[0.8888888888888888,\"#fdca26\"],[1.0,\"#f0f921\"]],\"sequentialminus\":[[0.0,\"#0d0887\"],[0.1111111111111111,\"#46039f\"],[0.2222222222222222,\"#7201a8\"],[0.3333333333333333,\"#9c179e\"],[0.4444444444444444,\"#bd3786\"],[0.5555555555555556,\"#d8576b\"],[0.6666666666666666,\"#ed7953\"],[0.7777777777777778,\"#fb9f3a\"],[0.8888888888888888,\"#fdca26\"],[1.0,\"#f0f921\"]],\"diverging\":[[0,\"#8e0152\"],[0.1,\"#c51b7d\"],[0.2,\"#de77ae\"],[0.3,\"#f1b6da\"],[0.4,\"#fde0ef\"],[0.5,\"#f7f7f7\"],[0.6,\"#e6f5d0\"],[0.7,\"#b8e186\"],[0.8,\"#7fbc41\"],[0.9,\"#4d9221\"],[1,\"#276419\"]]},\"xaxis\":{\"gridcolor\":\"white\",\"linecolor\":\"white\",\"ticks\":\"\",\"title\":{\"standoff\":15},\"zerolinecolor\":\"white\",\"automargin\":true,\"zerolinewidth\":2},\"yaxis\":{\"gridcolor\":\"white\",\"linecolor\":\"white\",\"ticks\":\"\",\"title\":{\"standoff\":15},\"zerolinecolor\":\"white\",\"automargin\":true,\"zerolinewidth\":2},\"scene\":{\"xaxis\":{\"backgroundcolor\":\"#E5ECF6\",\"gridcolor\":\"white\",\"linecolor\":\"white\",\"showbackground\":true,\"ticks\":\"\",\"zerolinecolor\":\"white\",\"gridwidth\":2},\"yaxis\":{\"backgroundcolor\":\"#E5ECF6\",\"gridcolor\":\"white\",\"linecolor\":\"white\",\"showbackground\":true,\"ticks\":\"\",\"zerolinecolor\":\"white\",\"gridwidth\":2},\"zaxis\":{\"backgroundcolor\":\"#E5ECF6\",\"gridcolor\":\"white\",\"linecolor\":\"white\",\"showbackground\":true,\"ticks\":\"\",\"zerolinecolor\":\"white\",\"gridwidth\":2}},\"shapedefaults\":{\"line\":{\"color\":\"#2a3f5f\"}},\"annotationdefaults\":{\"arrowcolor\":\"#2a3f5f\",\"arrowhead\":0,\"arrowwidth\":1},\"geo\":{\"bgcolor\":\"white\",\"landcolor\":\"#E5ECF6\",\"subunitcolor\":\"white\",\"showland\":true,\"showlakes\":true,\"lakecolor\":\"white\"},\"title\":{\"x\":0.05},\"mapbox\":{\"style\":\"light\"}}},\"coloraxis\":{\"colorbar\":{\"title\":{\"text\":\"Year\"}},\"colorscale\":[[0.0,\"#0d0887\"],[0.1111111111111111,\"#46039f\"],[0.2222222222222222,\"#7201a8\"],[0.3333333333333333,\"#9c179e\"],[0.4444444444444444,\"#bd3786\"],[0.5555555555555556,\"#d8576b\"],[0.6666666666666666,\"#ed7953\"],[0.7777777777777778,\"#fb9f3a\"],[0.8888888888888888,\"#fdca26\"],[1.0,\"#f0f921\"]]},\"legend\":{\"tracegroupgap\":0},\"margin\":{\"t\":60}},                        {\"responsive\": true}                    ).then(function(){\n",
              "                            \n",
              "var gd = document.getElementById('ad72badb-fba9-4466-afe4-a4d1be543707');\n",
              "var x = new MutationObserver(function (mutations, observer) {{\n",
              "        var display = window.getComputedStyle(gd).display;\n",
              "        if (!display || display === 'none') {{\n",
              "            console.log([gd, 'removed!']);\n",
              "            Plotly.purge(gd);\n",
              "            observer.disconnect();\n",
              "        }}\n",
              "}});\n",
              "\n",
              "// Listen for the removal of the full notebook cells\n",
              "var notebookContainer = gd.closest('#notebook-container');\n",
              "if (notebookContainer) {{\n",
              "    x.observe(notebookContainer, {childList: true});\n",
              "}}\n",
              "\n",
              "// Listen for the clearing of the current output cell\n",
              "var outputEl = gd.closest('.output');\n",
              "if (outputEl) {{\n",
              "    x.observe(outputEl, {childList: true});\n",
              "}}\n",
              "\n",
              "                        })                };                            </script>        </div>\n",
              "</body>\n",
              "</html>"
            ]
          },
          "metadata": {}
        }
      ],
      "source": [
        "#Please use this cell to create your your figure. Please use Year column to color your graph.\n",
        "import plotly.express as px\n",
        "df_2000 = df[df['Year'] >= 2000]\n",
        "\n",
        "fig = px.parallel_categories(df_2000, dimensions=['Year','Medal', 'Gender'], color='Year',\n",
        "                             color_continuous_scale=px.colors.sequential.Plasma)\n",
        "\n",
        "fig.show()\n",
        "\n",
        "\n",
        "\n"
      ]
    },
    {
      "cell_type": "markdown",
      "source": [
        "**Q2** Please inspect the code below and observe how values are plotted by running it. Then, read the 2016elections.csv from the DATA folder and select rows for AR, MI, CA, and WI. Then, utilize stacked bar plot, to stack vote percentages for Trump, Clinton, Johnson, and Others. Please see 'pct_clinton',\t'pct_trump',\t'pct_johnson',\t'pct_other' columns. Make sure that your x tick labels are those four states above."
      ],
      "metadata": {
        "id": "dqL_OMuiKITK"
      }
    },
    {
      "cell_type": "code",
      "source": [
        "import pandas as pd\n",
        "import seaborn as sns\n",
        "import matplotlib.pyplot as plt\n",
        "\n",
        "# create DataFrame\n",
        "df = pd.DataFrame({'High Temp': [28, 30, 34, 38, 45, 42,\n",
        "                                 38, 35, 32, 28, 25, 21],\n",
        "                   'Low Temp': [22, 26, 30, 32, 41, 38,\n",
        "                                32, 31, 28, 22, 15, 15],\n",
        "                   'Avg Temp': [25, 28, 32, 35, 43, 40,\n",
        "                                35, 33, 30, 25, 20, 18]},\n",
        "                  index=['Jan', 'Feb', 'Mar', 'Apr', 'May',\n",
        "                         'Jun', 'Jul', 'Aug', 'Sep', 'Oct',\n",
        "                         'Nov', 'Dec'])\n",
        "\n",
        "\n",
        "# create stacked bar chart for monthly temperatures\n",
        "df.plot(kind='bar', stacked=True, color=['red', 'skyblue', 'green'])\n",
        "\n",
        "# labels for x & y axis\n",
        "plt.xlabel('Months')\n",
        "plt.ylabel('Temp ranges in Degree Celsius')\n",
        "\n",
        "# title of plot\n",
        "plt.title('Monthly Temperatures in a year')"
      ],
      "metadata": {
        "colab": {
          "base_uri": "https://localhost:8080/",
          "height": 505
        },
        "id": "tLCiMCuPKRbC",
        "outputId": "bd6fd9e8-b8ad-4e8f-81c0-565cefb79a06"
      },
      "execution_count": 17,
      "outputs": [
        {
          "output_type": "execute_result",
          "data": {
            "text/plain": [
              "Text(0.5, 1.0, 'Monthly Temperatures in a year')"
            ]
          },
          "metadata": {},
          "execution_count": 17
        },
        {
          "output_type": "display_data",
          "data": {
            "text/plain": [
              "<Figure size 640x480 with 1 Axes>"
            ],
            "image/png": "[encoded data removed]"
          },
          "metadata": {}
        }
      ]
    },
    {
      "cell_type": "code",
      "source": [
        "#You can use this cell to write your code. It is doable at most 4 lines of code.\n",
        "elections = pd.read_csv('/content/drive/MyDrive/DATA/2016elections.csv')\n",
        "states = ['MI','AR','CA','WI']\n",
        "elections = elections[elections['st'].isin(states)]\n",
        "\n",
        "elections.plot(kind='bar', x='state', y=['pct_clinton', 'pct_trump', 'pct_johnson', 'pct_other'],\n",
        "                   stacked=True, color=['blue', 'red', 'green', 'gray'])\n"
      ],
      "metadata": {
        "id": "8rMIPtQDK9QI",
        "colab": {
          "base_uri": "https://localhost:8080/",
          "height": 523
        },
        "outputId": "3965c83f-c2b8-45f2-db1d-73cf9041a42a"
      },
      "execution_count": 30,
      "outputs": [
        {
          "output_type": "execute_result",
          "data": {
            "text/plain": [
              "<Axes: xlabel='state'>"
            ]
          },
          "metadata": {},
          "execution_count": 30
        },
        {
          "output_type": "display_data",
          "data": {
            "text/plain": [
              "<Figure size 640x480 with 1 Axes>"
            ],
            "image/png": "[encoded data removed]"
          },
          "metadata": {}
        }
      ]
    },
    {
      "cell_type": "markdown",
      "source": [],
      "metadata": {
        "id": "wTIuQvdlslXC"
      }
    },
    {
      "cell_type": "code",
      "source": [],
      "metadata": {
        "id": "eflpOr_LroHu"
      },
      "execution_count": null,
      "outputs": []
    }
  ]
}